{
 "cells": [
  {
   "cell_type": "code",
   "execution_count": 201,
   "metadata": {},
   "outputs": [],
   "source": [
    "import os\n",
    "import json\n",
    "import pandas as pd\n",
    "import numpy as np\n",
    "from tqdm import tqdm\n",
    "import spotipy\n",
    "import sqlite3\n",
    "from sqlite3 import Error\n",
    "import matplotlib.pyplot as plt\n",
    "from spotipy.oauth2 import SpotifyClientCredentials\n",
    "import time"
   ]
  },
  {
   "cell_type": "code",
   "execution_count": 202,
   "metadata": {},
   "outputs": [],
   "source": [
    "def connect_db(db_file):\n",
    "    conn = None\n",
    "    try:\n",
    "        conn = sqlite3.connect(db_file)\n",
    "    except Error as e:\n",
    "        print(e)\n",
    "    return conn"
   ]
  },
  {
   "cell_type": "code",
   "execution_count": 203,
   "metadata": {},
   "outputs": [],
   "source": [
    "def create_tables(conn):\n",
    "    try:\n",
    "        cur = conn.cursor()\n",
    "        # create playlist table\n",
    "        cur.execute(\"\"\"CREATE TABLE IF NOT EXISTS playlists (\n",
    "                                    name text NOT NULL,\n",
    "                                    collaborative text,\n",
    "                                    pid integer NOT NULL primary key,\n",
    "                                    modified_at integer,\n",
    "                                    num_tracks integer,\n",
    "                                    num_albums integer,\n",
    "                                    num_followers integer,\n",
    "                                    num_edits integer,\n",
    "                                    duration_ms integer,\n",
    "                                    num_artists integer\n",
    "                                );\"\"\")\n",
    "                                \n",
    "        # create tracks table\n",
    "        cur.execute(\"\"\" CREATE TABLE IF NOT EXISTS tracks (\n",
    "                                    artist_name text,\n",
    "                                    track_uri text NOT NULL primary key,\n",
    "                                    artist_uri text,\n",
    "                                    track_name text NOT NULL,\n",
    "                                    album_uri text,\n",
    "                                    album_name text,\n",
    "                                    track_id integer,\n",
    "                                    pid integer\n",
    "                                    ); \"\"\")\n",
    "        cur.execute(\"\"\"CREATE TABLE IF NOT EXISTS tracks_in_playlist (\n",
    "                                    pid integer NOT NULL,\n",
    "                                    track_uri\n",
    "        );\"\"\")\n",
    "        # create features table\n",
    "        cur.execute(\"\"\" CREATE TABLE IF NOT EXISTS features_by_track (\n",
    "                                    track_uri text primary key,\n",
    "                                    danceability real,\n",
    "                                    energy real,\n",
    "                                    key real,\n",
    "                                    loudness real,\n",
    "                                    mode real,\n",
    "                                    speechiness real,\n",
    "                                    acousticness real,\n",
    "                                    instrumentalness real,\n",
    "                                    liveness real,\n",
    "                                    valence real,\n",
    "                                    tempo real,\n",
    "                                    duration_ms integer,\n",
    "                                    time_signature integer\n",
    "                                    ); \"\"\")\n",
    "        \n",
    "        cur.execute(\"\"\" CREATE TABLE IF NOT EXISTS avg_features_by_playlist (\n",
    "                                    pid integer NOT NULL primary key,\n",
    "                                    name NOT NULL,\n",
    "                                    danceability real,\n",
    "                                    energy real,\n",
    "                                    key real,\n",
    "                                    loudness real,\n",
    "                                    mode real,\n",
    "                                    speechiness real,\n",
    "                                    acousticness real,\n",
    "                                    instrumentalness real,\n",
    "                                    liveness real,\n",
    "                                    valence real,\n",
    "                                    tempo real,\n",
    "                                    duration_ms integer,\n",
    "                                    time_signature integer\n",
    "        );\"\"\")\n",
    "\n",
    "    except Error as e: \n",
    "        print(e)\n"
   ]
  },
  {
   "cell_type": "code",
   "execution_count": 204,
   "metadata": {},
   "outputs": [],
   "source": [
    "def process_json_data(json_data, num_playlists, conn):\n",
    "  # Get all playlists in the file\n",
    "  playlists_df = pd.json_normalize(json_data['playlists'])\n",
    "  playlists_df.drop(['tracks', 'description'], axis=1, inplace=True)\n",
    "  playlists_df['name'].str.lower()\n",
    "  playlists_df.to_sql(name='playlists', con=conn, if_exists='append', index=False)\n",
    "  # Get all the tracks in the file\n",
    "  cur = conn.cursor()\n",
    "  cur.execute(\"select max(track_id) from tracks\")\n",
    "  rows = cur.fetchall()\n",
    "  max_track_id = rows[0][0]\n",
    "  if max_track_id is None:\n",
    "      max_track_id = 0\n",
    "  tracks_df = pd.json_normalize(json_data['playlists'], record_path=['tracks'], meta=['pid', 'num_followers'])\n",
    "  #tracks_in_playlist_df.to_sql(name=\"tracks_in_playlist\", con=conn, if_exists='append', index=False)\n",
    "  tracks_df = tracks_df[tracks_df['pid'].isin(playlists_df['pid'].values)]\n",
    "  tracks_df['track_uri'] = tracks_df['track_uri'].apply(lambda uri: uri.split(':')[2])\n",
    "  tracks_df['album_uri'] = tracks_df['album_uri'].apply(lambda uri: uri.split(':')[2])\n",
    "  tracks_df['artist_uri'] = tracks_df['artist_uri'].apply(lambda uri: uri.split(':')[2])\n",
    "\n",
    "  tracks_in_playlist_df = tracks_df[['pid', 'track_uri']]\n",
    "  tracks_in_playlist_df.to_sql(name='tracks_in_playlist', con=conn, if_exists='append', index=False)\n",
    "\n",
    "  all_tracks_df = pd.read_sql('select track_id, track_uri from tracks', conn)\n",
    "  tracks_df = tracks_df.merge(all_tracks_df, how='left', on='track_uri').fillna(0)\n",
    "  tracks_df['track_id1'] = tracks_df[tracks_df[\"track_id\"] == 0][['track_uri']].groupby('track_uri').ngroup()+max_track_id+1\n",
    "  tracks_df['track_id'] = tracks_df['track_id'] + tracks_df['track_id1'].fillna(0)\n",
    "  tracks_df['track_id'] = tracks_df['track_id'].astype('int64')\n",
    "  tracks_df = tracks_df[tracks_df['track_id1'].notna()]\n",
    "  tracks_df.drop(['pos', 'duration_ms', 'pid', 'num_followers', 'track_id1'], axis=1, inplace=True)\n",
    "  tracks_df = tracks_df.drop_duplicates(subset='track_uri', keep=\"first\")\n",
    "  tracks_df.to_sql(name='tracks', con=conn, if_exists='append', index=False)\n"
   ]
  },
  {
   "cell_type": "code",
   "execution_count": 205,
   "metadata": {},
   "outputs": [],
   "source": [
    "def process_playlists(path, num_files, num_playlists, conn):\n",
    "    cur = conn.cursor()\n",
    "\n",
    "    # Don't process playlists that have already been processed\n",
    "    # This allows for us to add more playlist and song data to the db as we go along with dev\n",
    "    cur.execute('select count(pid) from playlists')\n",
    "    count = cur.fetchall()[0][0] / 1000\n",
    "    if count == num_files:\n",
    "        return\n",
    "    playlists = []\n",
    "    filenames = os.listdir(path)\n",
    "    for fname in sorted(filenames):\n",
    "        if fname.startswith(\"mpd.slice.\") and fname.endswith(\".json\"):\n",
    "            count += 1\n",
    "            full_path = os.sep.join((path, fname))\n",
    "            with open(full_path) as f:\n",
    "                js = json.loads(f.read())\n",
    "                print(\"Processing playlist file\", count)\n",
    "                process_json_data(js, num_playlists, conn)\n",
    "            if count == num_files and num_files > 0:\n",
    "                break"
   ]
  },
  {
   "cell_type": "code",
   "execution_count": 235,
   "metadata": {},
   "outputs": [],
   "source": [
    "# For instructor and TA use: Change path to 'sample_data/'\n",
    "path = 'data/spotify_million_playlist_dataset/data/'\n",
    "conn = connect_db('data.db')"
   ]
  },
  {
   "cell_type": "code",
   "execution_count": 207,
   "metadata": {},
   "outputs": [],
   "source": [
    "# cur = conn.cursor()\n",
    "# cur.execute(\"delete from playlists\")\n",
    "# cur.execute(\"delete from tracks\")\n",
    "# cur.execute(\"delete from tracks_in_playlist\")"
   ]
  },
  {
   "cell_type": "code",
   "execution_count": 208,
   "metadata": {},
   "outputs": [],
   "source": [
    "create_tables(conn)"
   ]
  },
  {
   "cell_type": "code",
   "execution_count": 222,
   "metadata": {},
   "outputs": [],
   "source": [
    "# For instructor and TA use: Change second param to 1\n",
    "process_playlists(path, 1, 0, conn)"
   ]
  },
  {
   "cell_type": "code",
   "execution_count": 210,
   "metadata": {},
   "outputs": [],
   "source": [
    "def connect_to_spotify():\n",
    "    # Spotify credentials\n",
    "    cid = \"5cffc2676cd44b35bc6af81faeb8e69a\"\n",
    "    secret = \"f9fdae88362349b992ab2714ea91a094\"\n",
    "    os.environ[\"SPOTIPY_CLIENT_ID\"] = cid\n",
    "    os.environ[\"SPOTIPY_CLIENT_SECRET\"] = secret\n",
    "    os.environ['SPOTIPY_REDIRECT_URI'] = \"http://localhost:8080\"\n",
    "    client_credentials_manager = SpotifyClientCredentials(client_id=cid, client_secret=secret)\n",
    "    sp = spotipy.Spotify(client_credentials_manager = SpotifyClientCredentials())\n",
    "\n",
    "    return sp"
   ]
  },
  {
   "cell_type": "code",
   "execution_count": 224,
   "metadata": {},
   "outputs": [],
   "source": [
    "def get_spotify_features():\n",
    "    sp = connect_to_spotify()\n",
    "    cur = conn.cursor()\n",
    "    # Don't load features for songs that are already loaded\n",
    "    cur.execute('''select tracks.track_id, tracks.track_uri, tracks.artist_name from tracks \n",
    "    where tracks.track_uri not in (select features_by_track.track_uri from features_by_track)''')\n",
    "    rows = cur.fetchall()\n",
    "    num_tracks = len(rows)\n",
    "    if num_tracks != 0:\n",
    "        print(num_tracks, \" songs do not have features loaded yet.\")\n",
    "        uris = [row[1] for row in rows]\n",
    "        artists = [row[2] for row in rows]\n",
    "        feats_list = []\n",
    "        for i in range(0, len(uris), 100):\n",
    "            feats_list += sp.audio_features(uris[i:(i+100)])\n",
    "        # Remove None items, for some tracks there are no features\n",
    "        feats_list = [item for item in feats_list if item]\n",
    "        features_df = pd.DataFrame(feats_list)\n",
    "        features = ['danceability','energy','key','loudness','mode','speechiness','acousticness','instrumentalness','liveness','valence','tempo','duration_ms','time_signature']\n",
    "        features_df = features_df[features]\n",
    "        features_df.insert(loc=0, column='track_uri', value=uris)\n",
    "        features_df.to_sql(name='features_by_track', con=conn, if_exists='append', index=False)\n",
    "\n",
    "    # get the average features for each playlist and put into another table, along with the playlist name\n",
    "    # cur.execute('select tracks_in_playlist.pid, playlists.name, features_by_track.* from features_by_track join tracks_in_playlist on tracks_in_playlist.track_uri = features_by_track.track_uri join playlists on tracks_in_playlist.pid = playlists.pid')\n",
    "    # rows = cur.fetchall()\n",
    "    \n",
    "        cur.execute('''insert into avg_features_by_playlist select tracks_in_playlist.pid, playlists.name, AVG(features_by_track.danceability), AVG(features_by_track.energy), \n",
    "                    AVG('features_by_track.key'), AVG(features_by_track.loudness), AVG('features_by_track.mode'), AVG(features_by_track.speechiness),\n",
    "                        AVG(features_by_track.acousticness), AVG(features_by_track.instrumentalness), AVG(features_by_track.liveness), AVG(features_by_track.valence), \n",
    "                        AVG(features_by_track.tempo), AVG(features_by_track.duration_ms), AVG(features_by_track.time_signature)\n",
    "                        from features_by_track join tracks_in_playlist on tracks_in_playlist.track_uri = features_by_track.track_uri join playlists on tracks_in_playlist.pid = playlists.pid group by tracks_in_playlist.pid''')\n",
    "    elif not cur.execute('select count(pid) from avg_features_by_playlist group by pid').fetchall():\n",
    "        cur.execute('''insert into avg_features_by_playlist select tracks_in_playlist.pid, playlists.name, AVG(features_by_track.danceability), AVG(features_by_track.energy), \n",
    "                    AVG('features_by_track.key'), AVG(features_by_track.loudness), AVG('features_by_track.mode'), AVG(features_by_track.speechiness),\n",
    "                        AVG(features_by_track.acousticness), AVG(features_by_track.instrumentalness), AVG(features_by_track.liveness), AVG(features_by_track.valence), \n",
    "                        AVG(features_by_track.tempo), AVG(features_by_track.duration_ms), AVG(features_by_track.time_signature)\n",
    "                        from features_by_track join tracks_in_playlist on tracks_in_playlist.track_uri = features_by_track.track_uri join playlists on tracks_in_playlist.pid = playlists.pid group by tracks_in_playlist.pid''')\n",
    "        \n"
   ]
  },
  {
   "cell_type": "code",
   "execution_count": 238,
   "metadata": {},
   "outputs": [],
   "source": [
    "get_spotify_features()\n",
    "conn.commit()\n"
   ]
  },
  {
   "cell_type": "code",
   "execution_count": 239,
   "metadata": {},
   "outputs": [
    {
     "name": "stdout",
     "output_type": "stream",
     "text": [
      "2000\n",
      "All playlists were successfully processed\n",
      "All songs in the playlists and their features were processed\n"
     ]
    }
   ],
   "source": [
    "# Testing to verify that all data was correctly processed\n",
    "\n",
    "cur = conn.cursor()\n",
    "cur.execute('select count(pid) from avg_features_by_playlist')\n",
    "num_pl_avg_f = cur.fetchall()[0][0]\n",
    "\n",
    "cur.execute('select count(pid) from playlists')\n",
    "num_pl = cur.fetchall()[0][0]\n",
    "\n",
    "cur.execute('select count(pid) from tracks_in_playlist group by pid')\n",
    "num_pl_tip = len(cur.fetchall())\n",
    "print(num_pl_tip)\n",
    "\n",
    "cur.execute('select count(track_uri) from features_by_track')\n",
    "num_trks_fbt = cur.fetchall()[0][0]\n",
    "\n",
    "cur.execute('select count(track_uri) from tracks')\n",
    "num_trks = cur.fetchall()[0][0]\n",
    "\n",
    "if(num_pl == num_pl_avg_f and num_pl_avg_f == num_pl_tip and num_pl > 0):\n",
    "    print(\"All playlists were successfully processed\")\n",
    "else:\n",
    "    print(\"Error: not all playlists were processed\")\n",
    "\n",
    "if(num_trks == num_trks_fbt):\n",
    "    print(\"All songs in the playlists and their features were processed\")\n",
    "else:\n",
    "    print(\"Error: not all songs or not all features were processed\")"
   ]
  },
  {
   "cell_type": "code",
   "execution_count": 240,
   "metadata": {},
   "outputs": [],
   "source": [
    "conn.close()"
   ]
  }
 ],
 "metadata": {
  "kernelspec": {
   "display_name": "Python 3.9.7 64-bit",
   "language": "python",
   "name": "python3"
  },
  "language_info": {
   "codemirror_mode": {
    "name": "ipython",
    "version": 3
   },
   "file_extension": ".py",
   "mimetype": "text/x-python",
   "name": "python",
   "nbconvert_exporter": "python",
   "pygments_lexer": "ipython3",
   "version": "3.9.7"
  },
  "orig_nbformat": 4,
  "vscode": {
   "interpreter": {
    "hash": "771b2e09279bc50dd058e87d6b1c79418da63e1e1d4caf4728a325dde75439e2"
   }
  }
 },
 "nbformat": 4,
 "nbformat_minor": 2
}
