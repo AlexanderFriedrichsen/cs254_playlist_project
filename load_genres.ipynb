{
 "cells": [
  {
   "cell_type": "code",
   "execution_count": 26,
   "metadata": {},
   "outputs": [],
   "source": [
    "import os\n",
    "import json\n",
    "import pandas as pd\n",
    "import numpy as np\n",
    "from tqdm import tqdm\n",
    "import spotipy\n",
    "import sqlite3\n",
    "from sqlite3 import Error\n",
    "import matplotlib.pyplot as plt\n",
    "from spotipy.oauth2 import SpotifyClientCredentials\n",
    "import time\n",
    "import math\n",
    "import threading\n",
    "from spotipy.oauth2 import SpotifyOAuth"
   ]
  },
  {
   "cell_type": "code",
   "execution_count": 20,
   "metadata": {},
   "outputs": [],
   "source": [
    "def connect_to_spotify_new():\n",
    "    # Spotify credentials\n",
    "    cid = \"5cffc2676cd44b35bc6af81faeb8e69a\"\n",
    "    secret = \"f9fdae88362349b992ab2714ea91a094\"\n",
    "    os.environ[\"SPOTIPY_CLIENT_ID\"] = cid\n",
    "    os.environ[\"SPOTIPY_CLIENT_SECRET\"] = secret\n",
    "    os.environ['SPOTIPY_REDIRECT_URI'] = \"http://localhost:8080\"\n",
    "    client_credentials_manager = SpotifyClientCredentials(client_id=cid, client_secret=secret)\n",
    "    sp = spotipy.Spotify(client_credentials_manager = client_credentials_manager)\n",
    "\n",
    "    return sp"
   ]
  },
  {
   "cell_type": "code",
   "execution_count": 24,
   "metadata": {},
   "outputs": [],
   "source": [
    "sp = connect_to_spotify_new()"
   ]
  },
  {
   "cell_type": "code",
   "execution_count": 27,
   "metadata": {},
   "outputs": [],
   "source": [
    "token = SpotifyOAuth(scope = \"user-library-read\", username = \"anikahamby\")\n",
    "sp = spotipy.Spotify(auth_manager=token)"
   ]
  },
  {
   "cell_type": "code",
   "execution_count": 30,
   "metadata": {},
   "outputs": [
    {
     "name": "stdout",
     "output_type": "stream",
     "text": [
      "['pop rap']\n"
     ]
    }
   ],
   "source": [
    "artists = sp.artists(artists=[\"7C64wNX3howEFZjAYRKsfP\", \"4AK6F7OLvEQ5QYCBNiQWHq\"])\n",
    "\n",
    "\n",
    "print(artists['artists'][0]['genres'])"
   ]
  }
 ],
 "metadata": {
  "kernelspec": {
   "display_name": "Python 3.9.12 ('base')",
   "language": "python",
   "name": "python3"
  },
  "language_info": {
   "codemirror_mode": {
    "name": "ipython",
    "version": 3
   },
   "file_extension": ".py",
   "mimetype": "text/x-python",
   "name": "python",
   "nbconvert_exporter": "python",
   "pygments_lexer": "ipython3",
   "version": "3.9.12"
  },
  "orig_nbformat": 4,
  "vscode": {
   "interpreter": {
    "hash": "667f4edfead0ccd5ef39577ba409e76c4c5adbccb37ada997c7516c7fef8cebc"
   }
  }
 },
 "nbformat": 4,
 "nbformat_minor": 2
}
