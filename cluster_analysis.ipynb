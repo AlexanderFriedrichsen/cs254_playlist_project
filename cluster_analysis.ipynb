{
  "cells": [
    {
      "cell_type": "code",
      "execution_count": null,
      "metadata": {
        "id": "jvo9O8RqJ0fZ"
      },
      "outputs": [],
      "source": [
        "#calculate how many K clusters there should be \n",
        "wcss = [] \n",
        "for number_of_clusters in range(1, 30): \n",
        "    kmeans = KMeans(n_clusters = number_of_clusters, random_state = 42)\n",
        "    kmeans.fit(scaled_x) \n",
        "    wcss.append(kmeans.inertia_)\n",
        "wcss\n",
        "\n",
        "ks = range(1, 30)\n",
        "plt.plot(ks, wcss)\n",
        "plt.axvline(18, linestyle='--', color='r')"
      ]
    },
    {
      "cell_type": "code",
      "execution_count": null,
      "metadata": {
        "id": "ePwV_xVZJ8ns"
      },
      "outputs": [],
      "source": [
        "# initialize KMeans\n",
        "kmeans = KMeans(n_clusters=18, random_state=0)\n",
        "clusters = kmeans.fit(scaled_x)\n",
        "labels = clusters.labels_\n",
        "data_df['cluster'] = pd.Categorical(labels)\n"
      ]
    },
    {
      "cell_type": "code",
      "execution_count": null,
      "metadata": {
        "id": "1_oqeyBuJ-S_"
      },
      "outputs": [],
      "source": [
        "score = silhouette_score(scaled_x, clusters.labels_, metric='euclidean')\n",
        "print('Silhouetter Score: %.3f' % score)\n"
      ]
    },
    {
      "cell_type": "code",
      "execution_count": null,
      "metadata": {
        "id": "uQ_kVRF9KA4H"
      },
      "outputs": [],
      "source": [
        "from sklearn import datasets\n",
        "from yellowbrick.cluster import KElbowVisualizer\n",
        "\n",
        "visualizer = KElbowVisualizer(kmeans, k=(2,24))\n",
        " \n",
        "visualizer.fit(scaled_x)        # Fit the data to the visualizer\n",
        "visualizer.show() \n"
      ]
    },
    {
      "cell_type": "code",
      "execution_count": null,
      "metadata": {
        "id": "QRyHXuTZKDA1"
      },
      "outputs": [],
      "source": [
        "range_n_clusters = [16, 18, 20, 22, 24, 26, 28, 30]\n",
        "silhouette_avg = []\n",
        "for num_clusters in range_n_clusters:  \n",
        "  # initialise kmeans\n",
        "  kmeans = KMeans(n_clusters=num_clusters)\n",
        "  kmeans.fit(scaled_x)\n",
        "  cluster_labels = kmeans.labels_\n",
        " \n",
        "  # silhouette score\n",
        "  silhouette_avg.append(silhouette_score(scaled_x, cluster_labels))\n",
        "plt.plot(range_n_clusters,silhouette_avg)\n",
        "plt.xlabel(\"Values of K\") \n",
        "plt.ylabel(\"Silhouette score\") \n",
        "plt.title(\"Silhouette analysis For Optimal k\")\n",
        "plt.show()"
      ]
    },
    {
      "cell_type": "code",
      "execution_count": null,
      "metadata": {
        "id": "nyN8kOxiKFCY"
      },
      "outputs": [],
      "source": [
        "visualizer = KElbowVisualizer(kmeans, k=(17, 24))\n",
        " \n",
        "visualizer.fit(scaled_x)        # Fit the data to the visualizer\n",
        "visualizer.show() "
      ]
    },
    {
      "cell_type": "code",
      "execution_count": null,
      "metadata": {
        "id": "bmUrGGoWKG6p"
      },
      "outputs": [],
      "source": [
        "from yellowbrick.cluster import SilhouetteVisualizer\n",
        "\n",
        "fig, ax = plt.subplots(2, 2, figsize=(15,8))\n",
        "for i in [2, 3, 4, 5]:\n",
        "    '''\n",
        "    Create KMeans instance for different number of clusters\n",
        "    '''\n",
        "    km = KMeans(n_clusters=i, init='k-means++', n_init=10, max_iter=100, random_state=42)\n",
        "    q, mod = divmod(i, 2)\n",
        "    '''\n",
        "    Create SilhouetteVisualizer instance with KMeans instance\n",
        "    Fit the visualizer\n",
        "    '''\n",
        "    visualizer = SilhouetteVisualizer(km, colors='yellowbrick', ax=ax[q-1][mod])\n",
        "    visualizer.fit(scaled_x)"
      ]
    }
  ],
  "metadata": {
    "colab": {
      "collapsed_sections": [],
      "provenance": []
    },
    "kernelspec": {
      "display_name": "Python 3.9.12 ('base')",
      "language": "python",
      "name": "python3"
    },
    "language_info": {
      "name": "python",
      "version": "3.9.12"
    },
    "vscode": {
      "interpreter": {
        "hash": "667f4edfead0ccd5ef39577ba409e76c4c5adbccb37ada997c7516c7fef8cebc"
      }
    }
  },
  "nbformat": 4,
  "nbformat_minor": 0
}
